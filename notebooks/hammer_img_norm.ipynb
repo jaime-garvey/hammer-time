{
 "cells": [
  {
   "cell_type": "code",
   "execution_count": 1,
   "id": "15f8789c",
   "metadata": {},
   "outputs": [],
   "source": [
    "import argparse\n",
    "import os\n",
    "import time\n",
    "from threading import Thread\n",
    "\n",
    "import importlib\n",
    "import pandas as pd\n",
    "import numpy as np\n",
    "from pandas.io import gbq\n",
    "from google.cloud import bigquery\n",
    "from google.cloud import storage\n",
    "import pydata_google_auth\n",
    "\n",
    "import cv2\n",
    "from PIL import Image\n",
    "from scipy.spatial import distance as dist\n",
    "\n",
    "import skimage.io as skio\n",
    "from matplotlib import pyplot as plt"
   ]
  },
  {
   "cell_type": "code",
   "execution_count": 2,
   "id": "0dd9a8a0",
   "metadata": {},
   "outputs": [],
   "source": [
    "from imutils import perspective\n",
    "import imutils"
   ]
  },
  {
   "cell_type": "markdown",
   "id": "a5f05489",
   "metadata": {},
   "source": [
    "# Items to Address\n",
    "\n",
    "* Lifestyle image is default\n",
    "* 2 products in image\n",
    "* Non-white background color\n",
    "\n",
    "* If product is horizontal, which side should determine orientation angle?\n",
    "*flip product?\n",
    "*scale"
   ]
  },
  {
   "cell_type": "code",
   "execution_count": 3,
   "id": "3944910a",
   "metadata": {},
   "outputs": [
    {
     "name": "stdout",
     "output_type": "stream",
     "text": [
      "Please visit this URL to authorize this application: https://accounts.google.com/o/oauth2/auth?response_type=code&client_id=262006177488-3425ks60hkk80fssi9vpohv88g6q1iqd.apps.googleusercontent.com&redirect_uri=urn%3Aietf%3Awg%3Aoauth%3A2.0%3Aoob&scope=https%3A%2F%2Fwww.googleapis.com%2Fauth%2Fbigquery&state=EUutDdP6BY0Ap6ynoRZ7kXwyzDFNgu&prompt=consent&access_type=offline\n"
     ]
    },
    {
     "name": "stdin",
     "output_type": "stream",
     "text": [
      "Enter the authorization code:  4/1AX4XfWhacXgfrOE6GEwoTJzbetvBFNZvKyfEd2jSj_sJAc3r9Ta1gs4xVhk\n"
     ]
    }
   ],
   "source": [
    "credentials = pydata_google_auth.get_user_credentials(\n",
    "                        ['https://www.googleapis.com/auth/bigquery'],)"
   ]
  },
  {
   "cell_type": "code",
   "execution_count": 5,
   "id": "23b2dd90",
   "metadata": {},
   "outputs": [],
   "source": [
    "project_id = 'analytics-online-data-sci-thd'"
   ]
  },
  {
   "cell_type": "markdown",
   "id": "2affabea",
   "metadata": {},
   "source": [
    "# Get Images"
   ]
  },
  {
   "cell_type": "code",
   "execution_count": 6,
   "id": "d8c62db3",
   "metadata": {},
   "outputs": [],
   "source": [
    "query = '''select distinct OMS_SKU,description,pd.image_path top_image_path,Class_Name, Class_Nbr, Dept_Name,Dept_Nbr,\n",
    "discontinued_sku,wta.Taxonomy,\n",
    "alt_images.attribute_name,alt_images.image_path alt_image_path\n",
    "from analytics-online-thd.Master.Product_Dim_Master_wPS  pd inner join\n",
    "analytics-online-thd.Master.PR1_Website_Taxonomy wta\n",
    "on trim(OMS_SKU) = cast(wta.oms_id as string)\n",
    "inner join\n",
    "(select\n",
    "omsid,\n",
    "displayname as attribute_name,\n",
    "attributevalue,\n",
    "concat(\"https://idm.homedepot.com/assets/image/\",  substr(attributevalue, 0, 2), \"/\", attributevalue, \".jpg\") as image_path\n",
    "from\n",
    "analytics-online-data-sci-thd.recommendation.ItemAttributes a join\n",
    "analytics-online-data-sci-thd.recommendation.Attributes b\n",
    "on a.attributeid = b.attribute_id\n",
    "where\n",
    "displayname like '%Image%' and\n",
    "displayname not in ('Image Enhancement Available', 'Maximum Image Resolution', 'PLP Secondary Image GUID', 'THD Proprietary Brand Product Image', 'Image Sensor Type')\n",
    "and displayname = 'Product Image') \n",
    " alt_images\n",
    " on  trim(pd.OMS_SKU) = alt_images.omsid\n",
    "WHERE trim(Source_System) = 'STEP'\n",
    "and wta.taxonomy in (select taxonomy from `hd-personalization-prod.personalization.common_CATGPENREL_taxonomy` where taxonomy like 'Tools>Hand Tools>Hammers%')\n",
    "and trim(discontinued_sku) = 'N'\n",
    "and trim(online_status) = 'TRUE'\n",
    "and channel_status like '%DOTCOM_CERTIFIED%'\n",
    "and channel_status not like '%DISCONTINUED%' and hide_sku_on_web = 0\n",
    "order by pd.OMS_SKU\n",
    "'''"
   ]
  },
  {
   "cell_type": "code",
   "execution_count": 7,
   "id": "9c2d7e02",
   "metadata": {},
   "outputs": [],
   "source": [
    "data = gbq.read_gbq(query=query, dialect ='standard', project_id=project_id)"
   ]
  },
  {
   "cell_type": "code",
   "execution_count": 8,
   "id": "d92f0a06",
   "metadata": {},
   "outputs": [],
   "source": [
    "sample = data.head(5)"
   ]
  },
  {
   "cell_type": "markdown",
   "id": "82fe9506",
   "metadata": {},
   "source": [
    "# Remove Background\n",
    "- Covert to gray, and threshold\n",
    "- Morph-op to remove noise\n",
    "- Find max contour area\n",
    "- Crop & save"
   ]
  },
  {
   "cell_type": "code",
   "execution_count": 9,
   "id": "08163d52",
   "metadata": {},
   "outputs": [],
   "source": [
    "# util\n",
    "\n",
    "def read_image(path):\n",
    "    '''\n",
    "    :param path:\n",
    "    :return:\n",
    "    '''\n",
    "    img_skio = skio.imread(path)\n",
    "    im_pil = Image.fromarray(img_skio)\n",
    "    im = np.asarray(im_pil)\n",
    "    return im, im_pil\n",
    "    \n",
    "# def read_image(path):\n",
    "#     return cv2.imread(path)"
   ]
  },
  {
   "cell_type": "code",
   "execution_count": 10,
   "id": "c87c075d",
   "metadata": {},
   "outputs": [],
   "source": [
    "ex = sample.iloc[0].top_image_path"
   ]
  },
  {
   "cell_type": "code",
   "execution_count": 11,
   "id": "e44b7e43",
   "metadata": {},
   "outputs": [],
   "source": [
    "img, img_pil = read_image(ex)"
   ]
  },
  {
   "cell_type": "code",
   "execution_count": 12,
   "id": "956e49af",
   "metadata": {},
   "outputs": [
    {
     "data": {
      "image/png": "[encoded data removed]",
      "text/plain": [
       "<Figure size 432x288 with 1 Axes>"
      ]
     },
     "metadata": {
      "needs_background": "light"
     },
     "output_type": "display_data"
    }
   ],
   "source": [
    "plt.imshow(img);"
   ]
  },
  {
   "cell_type": "code",
   "execution_count": 13,
   "id": "3a4fb665",
   "metadata": {},
   "outputs": [],
   "source": [
    "gray = cv2.cvtColor(img, cv2.COLOR_BGR2GRAY)"
   ]
  },
  {
   "cell_type": "code",
   "execution_count": 14,
   "id": "bd5e99cb",
   "metadata": {},
   "outputs": [],
   "source": [
    "blurred = cv2.GaussianBlur(gray, (7,7), 0)"
   ]
  },
  {
   "cell_type": "code",
   "execution_count": 16,
   "id": "a33f281e",
   "metadata": {},
   "outputs": [],
   "source": [
    "#simple thresholding\n",
    "# (T, threshInv) = cv2.threshold(blurred, 200, 255, cv2.THRESH_BINARY_INV)\n",
    "\n",
    "# thresholding - OTSU\n",
    "# (T, threshInv) = cv2.threshold(blurred, 0, 255, cv2.THRESH_BINARY_INV | cv2.THRESH_OTSU)\n",
    "\n",
    "# print(f'OTSUs threshold value: {T}')\n",
    "\n",
    "\n",
    "#thresholding - adaptive\n",
    "threshInv = cv2.adaptiveThreshold(blurred, 255, cv2.ADAPTIVE_THRESH_GAUSSIAN_C, cv2.THRESH_BINARY_INV, 21, 4)\n",
    "#plt.imshow(threshInv, cmap='gray',vmin = 0, vmax = 255)"
   ]
  },
  {
   "cell_type": "code",
   "execution_count": null,
   "id": "da48feb2",
   "metadata": {},
   "outputs": [],
   "source": [
    "#Show mask\n",
    "# masked = cv2.bitwise_and(img, img, mask=threshInv)\n",
    "# plt.imshow(masked, cmap='gray',vmin = 0, vmax = 255)"
   ]
  },
  {
   "cell_type": "code",
   "execution_count": 17,
   "id": "58e4d4b1",
   "metadata": {},
   "outputs": [],
   "source": [
    "## (2) Morph-op to remove noise\n",
    "kernel = cv2.getStructuringElement(cv2.MORPH_ELLIPSE, (11,11))\n",
    "morphed = cv2.morphologyEx(threshInv, cv2.MORPH_CLOSE, kernel) #dialation, then erosion"
   ]
  },
  {
   "cell_type": "code",
   "execution_count": 18,
   "id": "8822df2d",
   "metadata": {},
   "outputs": [],
   "source": [
    "## (3) Find the max-area contour\n",
    "cnts, _ = cv2.findContours(morphed, cv2.RETR_EXTERNAL, cv2.CHAIN_APPROX_SIMPLE)\n",
    "cnt = sorted(cnts, key=cv2.contourArea)[-1]"
   ]
  },
  {
   "cell_type": "code",
   "execution_count": 19,
   "id": "c4515774",
   "metadata": {},
   "outputs": [],
   "source": [
    "## (4) Crop and save it\n",
    "x,y,w,h = cv2.boundingRect(cnt)\n",
    "dst = img[y:y+h, x:x+w]"
   ]
  },
  {
   "cell_type": "code",
   "execution_count": 20,
   "id": "2bd36752",
   "metadata": {},
   "outputs": [
    {
     "data": {
      "text/plain": [
       "<matplotlib.image.AxesImage at 0x7fa2624ce9d0>"
      ]
     },
     "execution_count": 20,
     "metadata": {},
     "output_type": "execute_result"
    },
    {
     "data": {
      "image/png": "[encoded data removed]",
      "text/plain": [
       "<Figure size 432x288 with 1 Axes>"
      ]
     },
     "metadata": {
      "needs_background": "light"
     },
     "output_type": "display_data"
    }
   ],
   "source": [
    "plt.imshow(dst)"
   ]
  },
  {
   "cell_type": "markdown",
   "id": "041438e0",
   "metadata": {},
   "source": [
    "# Measure Orientation of Object"
   ]
  },
  {
   "cell_type": "code",
   "execution_count": 21,
   "id": "522d317e",
   "metadata": {},
   "outputs": [],
   "source": [
    "# find lines\n",
    "M = cv2.moments(cnt)"
   ]
  },
  {
   "cell_type": "code",
   "execution_count": 22,
   "id": "0ce9e34e",
   "metadata": {},
   "outputs": [],
   "source": [
    "center = (int(M[\"m10\"] / M[\"m00\"]), int(M[\"m01\"] / M[\"m00\"]))"
   ]
  },
  {
   "cell_type": "code",
   "execution_count": 23,
   "id": "001048d2",
   "metadata": {},
   "outputs": [],
   "source": [
    "theta = 0.5*np.arctan2(2*M[\"mu11\"],M[\"mu20\"]-M[\"mu02\"])"
   ]
  },
  {
   "cell_type": "code",
   "execution_count": 24,
   "id": "cda3ed9d",
   "metadata": {},
   "outputs": [],
   "source": [
    "endx = 600 * np.cos(theta) + center[0] # linelength 600\n",
    "endy = 600 * np.sin(theta) + center[1]"
   ]
  },
  {
   "cell_type": "code",
   "execution_count": 25,
   "id": "90e183df",
   "metadata": {},
   "outputs": [
    {
     "data": {
      "image/png": "[encoded data removed]",
      "text/plain": [
       "<Figure size 432x288 with 1 Axes>"
      ]
     },
     "metadata": {
      "needs_background": "light"
     },
     "output_type": "display_data"
    }
   ],
   "source": [
    "plt.imshow(img, cmap='gray')\n",
    "plt.scatter(center[0], center[1], marker=\"X\")\n",
    "plt.plot([center[0], endx], [center[1], endy])\n",
    "plt.show()"
   ]
  },
  {
   "cell_type": "markdown",
   "id": "93e1166a",
   "metadata": {},
   "source": [
    "# Find Top of Hammer\n",
    "\n",
    "* Split the image into 4 quadrants\n",
    "* Count non zero pixels in each quadrant\n",
    "* Find closet angle or orientation "
   ]
  },
  {
   "cell_type": "code",
   "execution_count": 26,
   "id": "0f9a1e76",
   "metadata": {},
   "outputs": [],
   "source": [
    "image = morphed"
   ]
  },
  {
   "cell_type": "code",
   "execution_count": 27,
   "id": "1796eedf",
   "metadata": {},
   "outputs": [],
   "source": [
    "height = image.shape[0]\n",
    "width = image.shape[1]"
   ]
  },
  {
   "cell_type": "code",
   "execution_count": 28,
   "id": "844f8719",
   "metadata": {},
   "outputs": [],
   "source": [
    "width_cutoff = width // 2\n",
    "height_cutoff = height // 2"
   ]
  },
  {
   "cell_type": "code",
   "execution_count": 29,
   "id": "d7eec09d",
   "metadata": {},
   "outputs": [],
   "source": [
    "q1 = image[:height_cutoff, width_cutoff:]\n",
    "q2 = image[:height_cutoff, :width_cutoff]\n",
    "q3 = image[height_cutoff:height, :width_cutoff]\n",
    "q4 = image[height_cutoff:height, width_cutoff:]"
   ]
  },
  {
   "cell_type": "code",
   "execution_count": 30,
   "id": "c790fe78",
   "metadata": {},
   "outputs": [],
   "source": [
    "counts = []\n",
    "\n",
    "for q in [q1, q2, q3, q4]:\n",
    "    counts.append(cv2.countNonZero(q))"
   ]
  },
  {
   "cell_type": "code",
   "execution_count": 31,
   "id": "217603f8",
   "metadata": {},
   "outputs": [],
   "source": [
    "max_index = counts.index(max(counts))"
   ]
  },
  {
   "cell_type": "code",
   "execution_count": 32,
   "id": "13fc6f11",
   "metadata": {},
   "outputs": [],
   "source": [
    "min_index = counts.index(min(counts))"
   ]
  },
  {
   "cell_type": "code",
   "execution_count": 33,
   "id": "dd7d4673",
   "metadata": {},
   "outputs": [],
   "source": [
    "max_quad = max_index + 1"
   ]
  },
  {
   "cell_type": "code",
   "execution_count": 34,
   "id": "c45c8fc0",
   "metadata": {},
   "outputs": [],
   "source": [
    "second_max= -1\n",
    "\n",
    "for i in range(len(counts)):\n",
    "\n",
    "    if counts[min_index] < counts[i]:\n",
    "        if counts[max_index] > counts[i]:\n",
    "            if counts[i] > second_max:\n",
    "                second_max = counts[i]"
   ]
  },
  {
   "cell_type": "code",
   "execution_count": 35,
   "id": "af125efb",
   "metadata": {},
   "outputs": [],
   "source": [
    "second_max_quad = counts.index(second_max) + 1"
   ]
  },
  {
   "cell_type": "code",
   "execution_count": 36,
   "id": "7816c6de",
   "metadata": {},
   "outputs": [],
   "source": [
    "gen_orientation = sorted([max_quad, second_max_quad])"
   ]
  },
  {
   "cell_type": "code",
   "execution_count": 37,
   "id": "8900d985",
   "metadata": {},
   "outputs": [],
   "source": [
    "d = {1:90, 2:180, 3:370, 4: 0}"
   ]
  },
  {
   "cell_type": "code",
   "execution_count": 38,
   "id": "7d86c3ff",
   "metadata": {},
   "outputs": [],
   "source": [
    "desired_angle = d[gen_orientation[0]]"
   ]
  },
  {
   "cell_type": "code",
   "execution_count": 39,
   "id": "a0c7795d",
   "metadata": {},
   "outputs": [],
   "source": [
    "if theta < 0:\n",
    "    a1 = theta + 360\n",
    "\n",
    "if a1 > 180:\n",
    "    a2 = a1 - 180\n",
    "else:\n",
    "    a2 = a1 + 180"
   ]
  },
  {
   "cell_type": "code",
   "execution_count": 40,
   "id": "91ca5d1a",
   "metadata": {},
   "outputs": [],
   "source": [
    "if abs(desired_angle - a1) > abs(desired_angle - a2):\n",
    "    item_angle = round(a2)\n",
    "else:\n",
    "    item_angle = round(a1)"
   ]
  },
  {
   "cell_type": "markdown",
   "id": "22e6fa50",
   "metadata": {},
   "source": [
    "# Rotation"
   ]
  },
  {
   "cell_type": "code",
   "execution_count": 41,
   "id": "6574de76",
   "metadata": {},
   "outputs": [],
   "source": [
    "#center of image\n",
    "(h,w) = dst.shape[:2]\n",
    "(cX, cY) = (w//2, h//2)"
   ]
  },
  {
   "cell_type": "code",
   "execution_count": 42,
   "id": "a530679e",
   "metadata": {},
   "outputs": [],
   "source": [
    "#M = cv2.getRotationMatrix2D((cX, cY), -90, 1.0)\n",
    "# rotated = cv2.warpAffine(dst, M, (w,h))\n",
    "# rotated = imutils.rotate(dst, -90)\n",
    "\n",
    "rotation = item_angle - 90\n",
    "\n",
    "rotated = imutils.rotate_bound(dst, rotation)"
   ]
  },
  {
   "cell_type": "code",
   "execution_count": 43,
   "id": "9e8414da",
   "metadata": {},
   "outputs": [
    {
     "data": {
      "text/plain": [
       "<matplotlib.image.AxesImage at 0x7fa260ff4af0>"
      ]
     },
     "execution_count": 43,
     "metadata": {},
     "output_type": "execute_result"
    },
    {
     "data": {
      "image/png": "[encoded data removed]",
      "text/plain": [
       "<Figure size 432x288 with 1 Axes>"
      ]
     },
     "metadata": {
      "needs_background": "light"
     },
     "output_type": "display_data"
    }
   ],
   "source": [
    "plt.imshow(rotated)"
   ]
  },
  {
   "cell_type": "markdown",
   "id": "38d0e754",
   "metadata": {},
   "source": [
    "# Flip"
   ]
  },
  {
   "cell_type": "code",
   "execution_count": 44,
   "id": "9b175177",
   "metadata": {},
   "outputs": [],
   "source": [
    "gray_r = cv2.cvtColor(rotated, cv2.COLOR_BGR2GRAY)\n",
    "blurred_r = cv2.GaussianBlur(gray_r, (7,7), 0)\n",
    "threshInv_r = cv2.adaptiveThreshold(blurred_r, 255, cv2.ADAPTIVE_THRESH_GAUSSIAN_C, cv2.THRESH_BINARY_INV, 21, 4)"
   ]
  },
  {
   "cell_type": "code",
   "execution_count": 45,
   "id": "91e33d5e",
   "metadata": {},
   "outputs": [],
   "source": [
    "width_r = threshInv_r.shape[1]\n",
    "height_r = threshInv_r.shape[0]"
   ]
  },
  {
   "cell_type": "code",
   "execution_count": 46,
   "id": "d98b3994",
   "metadata": {},
   "outputs": [],
   "source": [
    "l = threshInv_r[:height_r //5, :width_r //2]\n",
    "r = threshInv_r[:height_r //5, width_r //2:]"
   ]
  },
  {
   "cell_type": "code",
   "execution_count": 47,
   "id": "6403a003",
   "metadata": {},
   "outputs": [],
   "source": [
    "if cv2.countNonZero(l) > cv2.countNonZero(r):\n",
    "    crop = cv2.flip(rotated,180)\n",
    "else:\n",
    "    crop = rotated"
   ]
  },
  {
   "cell_type": "code",
   "execution_count": 48,
   "id": "885cfb8a",
   "metadata": {},
   "outputs": [
    {
     "data": {
      "text/plain": [
       "<matplotlib.image.AxesImage at 0x7fa28c84b1c0>"
      ]
     },
     "execution_count": 48,
     "metadata": {},
     "output_type": "execute_result"
    },
    {
     "data": {
      "image/png": "[encoded data removed]",
      "text/plain": [
       "<Figure size 432x288 with 1 Axes>"
      ]
     },
     "metadata": {
      "needs_background": "light"
     },
     "output_type": "display_data"
    }
   ],
   "source": [
    "plt.imshow(crop)"
   ]
  },
  {
   "cell_type": "code",
   "execution_count": 168,
   "id": "bafbe5af",
   "metadata": {},
   "outputs": [
    {
     "data": {
      "text/plain": [
       "True"
      ]
     },
     "execution_count": 168,
     "metadata": {},
     "output_type": "execute_result"
    }
   ],
   "source": [
    "cv2.imwrite('crop.png', cv2.cvtColor(crop, cv2.COLOR_RGB2BGR))"
   ]
  },
  {
   "cell_type": "markdown",
   "id": "85c17bc6",
   "metadata": {},
   "source": [
    "# Replace Background"
   ]
  },
  {
   "cell_type": "code",
   "execution_count": 169,
   "id": "7bd14de2",
   "metadata": {},
   "outputs": [],
   "source": [
    "new_img_size = img.shape[0]"
   ]
  },
  {
   "cell_type": "code",
   "execution_count": 170,
   "id": "d02daaf5",
   "metadata": {},
   "outputs": [],
   "source": [
    "package_img = Image.new(size=(new_img_size, new_img_size), mode=\"RGBA\", color=(255, 255, 255, 255))"
   ]
  },
  {
   "cell_type": "code",
   "execution_count": 171,
   "id": "0c54d6d7",
   "metadata": {},
   "outputs": [],
   "source": [
    "layer = Image.open('crop.png')\n",
    "# layer = crop"
   ]
  },
  {
   "cell_type": "code",
   "execution_count": 172,
   "id": "8aa80ac0",
   "metadata": {},
   "outputs": [],
   "source": [
    "h, w = new_img_size, new_img_size\n",
    "ww, hh = layer.size[0], layer.size[1]\n",
    "\n",
    "yoff = (h-hh) //2\n",
    "xoff = (w-ww)//2"
   ]
  },
  {
   "cell_type": "code",
   "execution_count": 173,
   "id": "c1a2da11",
   "metadata": {},
   "outputs": [],
   "source": [
    "package_img.paste(layer, (xoff,yoff))"
   ]
  },
  {
   "cell_type": "code",
   "execution_count": 174,
   "id": "f789a01f",
   "metadata": {},
   "outputs": [
    {
     "data": {
      "text/plain": [
       "<matplotlib.image.AxesImage at 0x7fa24a6e5280>"
      ]
     },
     "execution_count": 174,
     "metadata": {},
     "output_type": "execute_result"
    },
    {
     "data": {
      "image/png": "[encoded data removed]",
      "text/plain": [
       "<Figure size 432x288 with 1 Axes>"
      ]
     },
     "metadata": {
      "needs_background": "light"
     },
     "output_type": "display_data"
    }
   ],
   "source": [
    "plt.imshow(package_img)"
   ]
  },
  {
   "cell_type": "code",
   "execution_count": null,
   "id": "11853f7e",
   "metadata": {},
   "outputs": [],
   "source": []
  }
 ],
 "metadata": {
  "environment": {
   "name": "pytorch-gpu.1-9.m79",
   "type": "gcloud",
   "uri": "gcr.io/deeplearning-platform-release/pytorch-gpu.1-9:m79"
  },
  "kernelspec": {
   "display_name": "Python [conda env:img-proc]",
   "language": "python",
   "name": "conda-env-img-proc-py"
  },
  "language_info": {
   "codemirror_mode": {
    "name": "ipython",
    "version": 3
   },
   "file_extension": ".py",
   "mimetype": "text/x-python",
   "name": "python",
   "nbconvert_exporter": "python",
   "pygments_lexer": "ipython3",
   "version": "3.9.7"
  }
 },
 "nbformat": 4,
 "nbformat_minor": 5
}
